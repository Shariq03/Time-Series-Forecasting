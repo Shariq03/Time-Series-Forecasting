{
 "cells": [
  {
   "cell_type": "code",
   "execution_count": null,
   "metadata": {
    "collapsed": true
   },
   "outputs": [],
   "source": [
    "import pandas as pd\n",
    "import scipy as sp\n",
    "import numpy as np\n",
    "from rpy2.robjects.packages import importr\n",
    "import rpy2.robjects as ro\n",
    "import os"
   ]
  },
  {
   "cell_type": "code",
   "execution_count": null,
   "metadata": {
    "collapsed": true
   },
   "outputs": [],
   "source": [
    "def forecastmethod():\n",
    "    actual_path = os.getcwd()\n",
    "    f = open(\"textpath.txt\", \"r\")  #input csv full-path\n",
    "    y = f.read()\n",
    "    directory = y\n",
    "    os.chdir(y)\n",
    "    importr(\"tsintermittent\")\n",
    "    ro.r('''directory <- getwd()\n",
    "            allfilespath = list.files(directory, full.names = TRUE)\n",
    "            len <- length(allfilespath)\n",
    "            range <- 1:len\n",
    "            for(i in range)\n",
    "            {\n",
    "                presentfile <- read.csv(allfilespath[i])\n",
    "                names(presentfile) = c(\"id\",\"demandvalues\")\n",
    "                arr <- presentfile$demandvalues\n",
    "                z = idclass(t(arr),type='SBC')\n",
    "                if(z$cv2 <= 0.49 && z$p <=1.32)\n",
    "                {\n",
    "                    output=\"Smooth\"\n",
    "                }\n",
    "                else if(z$cv2 > 0.49 && z$p <=1.32)\n",
    "                {\n",
    "                    output=\"Erratic\"\n",
    "                }\n",
    "                else if(z$cv2 <= 0.49 && z$p >1.32)\n",
    "                {\n",
    "                    output=\"Intermittent\"\n",
    "                }\n",
    "                else\n",
    "                {\n",
    "                    output=\"Lumpy\"\n",
    "                }\n",
    "            }\n",
    "            print (output)\n",
    "        ''')\n",
    "    os.chdir(actual_path)\n",
    "    ro.r('write(output, \"output.txt\")')  #which category does the input csv belongs to is stored in output.txt"
   ]
  }
 ],
 "metadata": {
  "kernelspec": {
   "display_name": "Python 3",
   "language": "python",
   "name": "python3"
  },
  "language_info": {
   "codemirror_mode": {
    "name": "ipython",
    "version": 3
   },
   "file_extension": ".py",
   "mimetype": "text/x-python",
   "name": "python",
   "nbconvert_exporter": "python",
   "pygments_lexer": "ipython3",
   "version": "3.6.1"
  }
 },
 "nbformat": 4,
 "nbformat_minor": 2
}
