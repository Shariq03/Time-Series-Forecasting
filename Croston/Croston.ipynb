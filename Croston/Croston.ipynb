{
 "cells": [
  {
   "cell_type": "code",
   "execution_count": 1,
   "metadata": {
    "collapsed": true
   },
   "outputs": [],
   "source": [
    "import pandas as pd\n",
    "import scipy as sp\n",
    "import numpy as np\n",
    "from rpy2.robjects.packages import importr\n",
    "import rpy2.robjects as ro\n",
    "\n",
    "import matplotlib.pyplot as plt\n",
    "%matplotlib inline\n",
    "plt.style.use('bmh')\n",
    "import os"
   ]
  },
  {
   "cell_type": "code",
   "execution_count": 2,
   "metadata": {},
   "outputs": [
    {
     "name": "stdout",
     "output_type": "stream",
     "text": [
      "        csv1      csv2      csv3     csv4      csv5      csv6      csv7\n",
      "\r\n",
      "41 0.2479215 0.4310386 0.4250629 0.576829 0.4100229 0.2037557 0.4677431\n",
      "\r\n",
      "42 0.2479215 0.4310386 0.4250629 0.576829 0.4100229 0.2037557 0.4677431\n",
      "\r\n",
      "43 0.2479215 0.4310386 0.4250629 0.576829 0.4100229 0.2037557 0.4677431\n",
      "\r\n",
      "44 0.2479215 0.4310386 0.4250629 0.576829 0.4100229 0.2037557 0.4677431\n",
      "\r\n",
      "45 0.2479215 0.4310386 0.4250629 0.576829 0.4100229 0.2037557 0.4677431\n",
      "\r\n",
      "46 0.2479215 0.4310386 0.4250629 0.576829 0.4100229 0.2037557 0.4677431\n",
      "\r\n",
      "47 0.2479215 0.4310386 0.4250629 0.576829 0.4100229 0.2037557 0.4677431\n",
      "\r\n",
      "48 0.2479215 0.4310386 0.4250629 0.576829 0.4100229 0.2037557 0.4677431\n",
      "\r\n",
      "49 0.2479215 0.4310386 0.4250629 0.576829 0.4100229 0.2037557 0.4677431\n",
      "\r\n",
      "50 0.2479215 0.4310386 0.4250629 0.576829 0.4100229 0.2037557 0.4677431\n",
      "\r\n",
      "        csv8      csv9     csv10\n",
      "\r\n",
      "41 0.3106968 0.2301723 0.3245841\n",
      "\r\n",
      "42 0.3106968 0.2301723 0.3245841\n",
      "\r\n",
      "43 0.3106968 0.2301723 0.3245841\n",
      "\r\n",
      "44 0.3106968 0.2301723 0.3245841\n",
      "\r\n",
      "45 0.3106968 0.2301723 0.3245841\n",
      "\r\n",
      "46 0.3106968 0.2301723 0.3245841\n",
      "\r\n",
      "47 0.3106968 0.2301723 0.3245841\n",
      "\r\n",
      "48 0.3106968 0.2301723 0.3245841\n",
      "\r\n",
      "49 0.3106968 0.2301723 0.3245841\n",
      "\r\n",
      "50 0.3106968 0.2301723 0.3245841\n",
      "\n"
     ]
    }
   ],
   "source": [
    "forecast = importr(\"forecast\")\n",
    "ro.r('''path <- getwd()\n",
    "        directory <- paste(path,\"Croston\", sep=\"/\")\n",
    "        allfilespath = list.files(directory, full.names = TRUE)\n",
    "        final_dataframe = data.frame()\n",
    "        len <- length(allfilespath)\n",
    "        range <- 1:len\n",
    "        dat = data.frame()\n",
    "        for(i in range)\n",
    "        {\n",
    "            presentfile <- read.csv(allfilespath[i], sep='\\t')\n",
    "            names(presentfile) = c(\"id\", \"frequency\", \"demandvalues\")\n",
    "            arr <- presentfile$demandvalues\n",
    "            ar1 <- croston(arr)\n",
    "            tempdataframe = data.frame(ar1)\n",
    "            cname = paste(\"csv\",i, sep=\"\")\n",
    "            names(tempdataframe) = c(cname)\n",
    "            newdf <- t(tempdataframe)\n",
    "            dat <- rbind(dat, newdf)\n",
    "        }\n",
    "    ''')\n",
    "\n",
    "ro.r('finaldf <- t(dat)')\n",
    "l = ro.r('finaldf')\n",
    "ro.r('write.csv(finaldf, file = \"Final-Forecast.csv\")')\n",
    "print (l)"
   ]
  },
  {
   "cell_type": "code",
   "execution_count": null,
   "metadata": {
    "collapsed": true
   },
   "outputs": [],
   "source": []
  }
 ],
 "metadata": {
  "kernelspec": {
   "display_name": "Python 3",
   "language": "python",
   "name": "python3"
  },
  "language_info": {
   "codemirror_mode": {
    "name": "ipython",
    "version": 3
   },
   "file_extension": ".py",
   "mimetype": "text/x-python",
   "name": "python",
   "nbconvert_exporter": "python",
   "pygments_lexer": "ipython3",
   "version": "3.6.1"
  }
 },
 "nbformat": 4,
 "nbformat_minor": 2
}
